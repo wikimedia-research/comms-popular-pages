{
 "cells": [
  {
   "cell_type": "markdown",
   "id": "aaec4065",
   "metadata": {},
   "source": [
    "# Most Popular Pages in 2021\n",
    "\n",
    "We gather the 50 most popular pages in 2021 for the annual end of year Medium post. The phab task for this is [T295943](https://phabricator.wikimedia.org/T295943)\n",
    "\n",
    "## Configuration Variables\n",
    "\n",
    "We gather page views for 2021 from the English Wikipedia, grabbing page titles from the most recent snapshot of `wmf_raw.mediawiki_page` at the time. I chose to gather the top 100 and will then limit the list further in a spreadsheet or otherwise, as the heuristics for excluding pages might develop along the way."
   ]
  },
  {
   "cell_type": "code",
   "execution_count": 1,
   "id": "09860cec",
   "metadata": {},
   "outputs": [],
   "source": [
    "from wmfdata import spark"
   ]
  },
  {
   "cell_type": "code",
   "execution_count": 2,
   "id": "a0a1d96e",
   "metadata": {},
   "outputs": [],
   "source": [
    "## The year we're gathering data for\n",
    "year = 2021\n",
    "\n",
    "## Name of the project in wmf.pageview_hourly\n",
    "wiki = 'en.wikipedia'\n",
    "\n",
    "## Database name and snapshot matching the project in wmf_raw.mediawiki_page\n",
    "wiki_db = 'enwiki'\n",
    "snapshot = '2021-11'\n",
    "\n",
    "## The number of pages we return\n",
    "top_n = 100"
   ]
  },
  {
   "cell_type": "code",
   "execution_count": 3,
   "id": "0d9b93d7",
   "metadata": {},
   "outputs": [],
   "source": [
    "## Kudos to Connie for creating last year's query, which I used as a starting point!\n",
    "## Added mobile view percentage as that helps determine whether specific articles \n",
    "## are disqualified list due to \"automated\" traffic not being caught by other heuristics.\n",
    "## Added percentage of \"none\" referrers per T268262#6664186\n",
    "\n",
    "pageview_query = f'''\n",
    "WITH v AS (\n",
    "    SELECT\n",
    "        page_id,\n",
    "        SUM(view_count) AS pageviews,\n",
    "        SUM(IF(access_method = \"mobile web\", view_count, 0)) AS num_mobile_pageviews,\n",
    "        100.0 * SUM(IF(access_method = \"mobile web\", view_count, 0)) / SUM(view_count)\n",
    "            AS percent_mobile_pageviews,\n",
    "        SUM(IF(referer_class = \"none\", view_count, 0)) AS num_noreferrer_pageviews,\n",
    "        100.0 * SUM(IF(referer_class = \"none\", view_count, 0)) / SUM(view_count)\n",
    "            AS percent_none_referrer\n",
    "    FROM wmf.pageview_hourly\n",
    "    WHERE year = {year}\n",
    "        AND project = \"{wiki}\"\n",
    "        AND namespace_id = 0 -- only article pages\n",
    "        AND agent_type = \"user\" -- ignore bots, spiders, etc\n",
    "    GROUP BY page_id\n",
    "    ORDER by pageviews DESC\n",
    "    LIMIT {top_n}\n",
    "), p AS (\n",
    "    SELECT\n",
    "        page_id,\n",
    "        page_title,\n",
    "        page_latest\n",
    "    FROM wmf_raw.mediawiki_page\n",
    "    WHERE wiki_db = \"{wiki_db}\"\n",
    "    AND snapshot = \"{snapshot}\"\n",
    "    AND page_id IS NOT NULL\n",
    "    AND page_namespace = 0\n",
    "    AND NOT page_is_redirect\n",
    ")\n",
    "SELECT\n",
    "    p.page_title,\n",
    "    v.*\n",
    "FROM v\n",
    "LEFT JOIN p\n",
    "ON v.page_id=p.page_id\n",
    "'''"
   ]
  },
  {
   "cell_type": "code",
   "execution_count": 4,
   "id": "b07ab200",
   "metadata": {},
   "outputs": [
    {
     "name": "stderr",
     "output_type": "stream",
     "text": [
      "PySpark executors will use /usr/lib/anaconda-wmf/bin/python3.\n"
     ]
    }
   ],
   "source": [
    "pageview_data = spark.run(pageview_query)"
   ]
  },
  {
   "cell_type": "code",
   "execution_count": null,
   "id": "d72da163",
   "metadata": {},
   "outputs": [],
   "source": [
    "pageview_data.sort_values('pageviews').tail(50)"
   ]
  },
  {
   "cell_type": "code",
   "execution_count": 6,
   "id": "42917ccd",
   "metadata": {},
   "outputs": [
    {
     "name": "stderr",
     "output_type": "stream",
     "text": [
      "Exception in thread Thread-5:\n",
      "Traceback (most recent call last):\n",
      "  File \"/home/nettrom/.conda/envs/2021-05-03T16.30.23_nettrom/lib/python3.7/threading.py\", line 926, in _bootstrap_inner\n",
      "    self.run()\n",
      "  File \"/home/nettrom/.conda/envs/2021-05-03T16.30.23_nettrom/lib/python3.7/threading.py\", line 1177, in run\n",
      "    self.function(*self.args, **self.kwargs)\n",
      "TypeError: stop_session() missing 1 required positional argument: 'session'\n",
      "\n"
     ]
    }
   ],
   "source": [
    "pageview_data.to_csv('english-wikipedia-2021-top-pages-2021-12-17.csv')"
   ]
  }
 ],
 "metadata": {
  "kernelspec": {
   "display_name": "Python 3",
   "language": "python",
   "name": "python3"
  },
  "language_info": {
   "codemirror_mode": {
    "name": "ipython",
    "version": 3
   },
   "file_extension": ".py",
   "mimetype": "text/x-python",
   "name": "python",
   "nbconvert_exporter": "python",
   "pygments_lexer": "ipython3",
   "version": "3.7.6"
  }
 },
 "nbformat": 4,
 "nbformat_minor": 5
}
