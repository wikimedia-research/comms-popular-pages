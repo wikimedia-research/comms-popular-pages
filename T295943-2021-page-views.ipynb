{
 "cells": [
  {
   "cell_type": "markdown",
   "id": "8b2a9fc5",
   "metadata": {},
   "source": [
    "# Most Popular Pages in 2021\n",
    "\n",
    "We gather the 50 most popular pages in 2021 for the annual end of year Medium post. The phab task for this is [T295943](https://phabricator.wikimedia.org/T295943)\n",
    "\n",
    "## Configuration Variables and Methodological Notes\n",
    "\n",
    "We use `wmf.pageviews_hourly` to gather page views for 2021, with the year being configurable. In our case we gather it for the English Wikipedia, but also have a configuration variable to change that to any wiki for simplicity. Because we aggregate by `page_id` the view counts automatically incorporate views coming in through any redirects. We use the most recent snapshot of `wmf_raw.mediawiki_page` (again configurable) to resolve page IDs to page titles.\n",
    "\n",
    "We aggregate and calculate the proportion of views on the mobile platform in order to enable filtering of the list. A common heuristic is to exclude pages with less than 10% or more than 90% of their views coming in through mobile as that is an indicator of automated traffic.\n",
    "\n",
    "Starting with the 2021 overview, we also aggregated the proportion of views not having a referrer header set (`referer_class = \"none\"`). After examining the data we found that several pages about companie or entities (e.g. YouTube, Wikipedia, Google) had a significantly higher proportion of their views coming in that way, and we chose to exclude them from the list as well.\n",
    "\n",
    "Note that the annual blog post is updated after the year has ended with pageview counts from [Topviews](https://pageviews.toolforge.org/topviews?project=en.wikipedia.org) from the Pageviews tool. Those view counts do *not* include redirects and can therefore significantly alter the total number of views. This might be most significant for pages that have a large number of redirects (e.g. [Characters of the Marvel Cinematic Universe](https://pageviews.toolforge.org/?project=en.wikipedia.org&platform=all-access&agent=user&redirects=1&range=last-year&pages=Characters_of_the_Marvel_Cinematic_Universe) had [273 redirects in the article namespace pointing to it](https://en.wikipedia.org/w/index.php?title=Special:WhatLinksHere/Characters_of_the_Marvel_Cinematic_Universe&hidetrans=1&hidelinks=1&limit=500) in early January 2022, and the pageviews for 2021 are 19.8M when taking them into account but only 3.5M without the redirects).\n",
    "\n",
    "Lastly, we have a configuration variable for the number of pages to return. It's by default set to 100. Note that our heuristics described above end up removing a fairly large number of pages from the list, so setting it higher than the number of pages you're aiming to finally list will be useful."
   ]
  },
  {
   "cell_type": "code",
   "execution_count": 1,
   "id": "0e993d49",
   "metadata": {},
   "outputs": [],
   "source": [
    "from wmfdata import spark"
   ]
  },
  {
   "cell_type": "code",
   "execution_count": 3,
   "id": "f27a04c1",
   "metadata": {},
   "outputs": [],
   "source": [
    "## The year we're gathering data for\n",
    "year = 2021\n",
    "\n",
    "## Name of the project in wmf.pageview_hourly\n",
    "wiki = 'en.wikipedia'\n",
    "\n",
    "## Database name and snapshot matching the project in wmf_raw.mediawiki_page\n",
    "wiki_db = 'enwiki'\n",
    "snapshot = '2021-12'\n",
    "\n",
    "## The number of pages we return\n",
    "top_n = 100"
   ]
  },
  {
   "cell_type": "code",
   "execution_count": 4,
   "id": "d9cc07b2",
   "metadata": {},
   "outputs": [],
   "source": [
    "## Kudos to Connie for creating last year's query, which I used as a starting point!\n",
    "## Added mobile view percentage as that helps determine whether specific articles \n",
    "## are disqualified list due to \"automated\" traffic not being caught by other heuristics.\n",
    "## Added percentage of \"none\" referrers per T268262#6664186\n",
    "\n",
    "pageview_query = f'''\n",
    "WITH v AS (\n",
    "    SELECT\n",
    "        page_id,\n",
    "        SUM(view_count) AS pageviews,\n",
    "        SUM(IF(access_method = \"mobile web\", view_count, 0)) AS num_mobile_pageviews,\n",
    "        100.0 * SUM(IF(access_method = \"mobile web\", view_count, 0)) / SUM(view_count)\n",
    "            AS percent_mobile_pageviews,\n",
    "        SUM(IF(referer_class = \"none\", view_count, 0)) AS num_noreferrer_pageviews,\n",
    "        100.0 * SUM(IF(referer_class = \"none\", view_count, 0)) / SUM(view_count)\n",
    "            AS percent_none_referrer\n",
    "    FROM wmf.pageview_hourly\n",
    "    WHERE year = {year}\n",
    "        AND project = \"{wiki}\"\n",
    "        AND namespace_id = 0 -- only article pages\n",
    "        AND agent_type = \"user\" -- ignore bots, spiders, etc\n",
    "    GROUP BY page_id\n",
    "    ORDER by pageviews DESC\n",
    "    LIMIT {top_n}\n",
    "), p AS (\n",
    "    SELECT\n",
    "        page_id,\n",
    "        page_title,\n",
    "        page_latest\n",
    "    FROM wmf_raw.mediawiki_page\n",
    "    WHERE wiki_db = \"{wiki_db}\"\n",
    "    AND snapshot = \"{snapshot}\"\n",
    "    AND page_id IS NOT NULL\n",
    "    AND page_namespace = 0\n",
    "    AND NOT page_is_redirect\n",
    ")\n",
    "SELECT\n",
    "    p.page_title,\n",
    "    v.*\n",
    "FROM v\n",
    "LEFT JOIN p\n",
    "ON v.page_id=p.page_id\n",
    "'''"
   ]
  },
  {
   "cell_type": "code",
   "execution_count": 5,
   "id": "a1c5111a",
   "metadata": {},
   "outputs": [
    {
     "name": "stderr",
     "output_type": "stream",
     "text": [
      "PySpark executors will use /usr/lib/anaconda-wmf/bin/python3.\n"
     ]
    }
   ],
   "source": [
    "pageview_data = spark.run(pageview_query)"
   ]
  },
  {
   "cell_type": "code",
   "execution_count": null,
   "id": "ba8ac655",
   "metadata": {},
   "outputs": [],
   "source": [
    "pageview_data.sort_values('pageviews').tail(50)"
   ]
  },
  {
   "cell_type": "code",
   "execution_count": 7,
   "id": "004cbc74",
   "metadata": {},
   "outputs": [],
   "source": [
    "pageview_data.to_csv('english-wikipedia-2021-top-pages-2022-01-10.csv')"
   ]
  }
 ],
 "metadata": {
  "kernelspec": {
   "display_name": "Python 3",
   "language": "python",
   "name": "python3"
  },
  "language_info": {
   "codemirror_mode": {
    "name": "ipython",
    "version": 3
   },
   "file_extension": ".py",
   "mimetype": "text/x-python",
   "name": "python",
   "nbconvert_exporter": "python",
   "pygments_lexer": "ipython3",
   "version": "3.7.6"
  }
 },
 "nbformat": 4,
 "nbformat_minor": 5
}
